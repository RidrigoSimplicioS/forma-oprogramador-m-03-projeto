{
  "nbformat": 4,
  "nbformat_minor": 0,
  "metadata": {
    "colab": {
      "provenance": []
    },
    "kernelspec": {
      "name": "python3",
      "display_name": "Python 3"
    },
    "language_info": {
      "name": "python"
    }
  },
  "cells": [
    {
      "cell_type": "markdown",
      "source": [
        "# JOGO PAR OU IMPAR\n",
        "\n",
        "1 Definir quem serão os jogadores\n",
        "\n",
        "2 Definir quem escolhe primeiro\n",
        "\n",
        "3 Definir a escolha entre par e impar\n",
        "\n",
        "4 Coletar o os números escolhidos entre os jogadores\n",
        "\n",
        "5 Calcula se a soma dos números é par ou impar\n",
        "\n",
        "6 Informar quem ganhou !\n",
        "\n",
        "\n",
        "\n"
      ],
      "metadata": {
        "id": "ShLZxHC39BpI"
      }
    },
    {
      "cell_type": "code",
      "source": [
        "jogador1 = input('-> Dijite o nome do primeiro jogador:')\n",
        "jogador2 = input('-> Dijite o nome do segundo jogador:')\n",
        "print(f' // Quem escolher primeiro, {jogador1} ou {jogador2}?')\n",
        "primeiro_jogador = input(f'-> Digite 1 para escolher {jogador1} ou 2 para escolher {jogador2}. ')\n",
        "segundo_jogador = None\n",
        "\n",
        "if primeiro_jogador == '1':\n",
        "  primeiro_jogador = jogador1\n",
        "  segundo_jogador = jogador2\n",
        "elif primeiro_jogador == '2':\n",
        "  primeiro_jogador = jogador2\n",
        "  segundo_jogador = jogador1\n",
        "\n",
        "print('// Digite 0 para esolher PAR ou 1 para escolher IMPAR ')\n",
        "escolha = input(f'{primeiro_jogador}, Você quer par ou impar?')\n",
        "escolha2 = None\n",
        "\n",
        "if escolha == 'impar' or 'impar' or escolha == '1':\n",
        "  escolha = 'impar'\n",
        "  escolha2 = 'par'\n",
        "elif escolha == 'par' or escolha == '0':\n",
        "  escolha = 'par'\n",
        "  escolha2 = 'impar'\n",
        "\n",
        "print(f'{segundo_jogador}, Você ficou com {escolha2} ')\n",
        "\n",
        "numero1 = int(input(f'-> {primeiro_jogador}, escolha um número:'))\n",
        "numero2 = int(input(f'-> {segundo_jogador}, escolha um número :'))\n",
        "\n",
        "soma = numero1 + numero2\n",
        "\n",
        "if soma % 2 == 0 :\n",
        "  vencedor = 'par'\n",
        "else:\n",
        "  vencedor = \"impar\"\n",
        "if vencedor == escolha:\n",
        "  print(f'//{primeiro_jogador} venceu:')\n",
        "else:\n",
        "  print(f'//{segundo_jogador} venceu:')\n",
        "\n",
        "\n",
        "\n",
        "\n",
        "\n",
        "\n"
      ],
      "metadata": {
        "id": "qv4RPlp1-kx6",
        "colab": {
          "base_uri": "https://localhost:8080/"
        },
        "outputId": "cc1a564f-fdb8-4264-c3f3-564bd08a54cd"
      },
      "execution_count": null,
      "outputs": [
        {
          "output_type": "stream",
          "name": "stdout",
          "text": [
            "-> Dijite o nome do primeiro jogador:João\n",
            "-> Dijite o nome do segundo jogador:Maria\n",
            " // Quem escolher primeiro, João ou Maria?\n",
            "-> Digite 1 para escolher João ou 2 para escolher Maria. 2\n",
            "// Digite 0 para esolher PAR ou 1 para escolher IMPAR \n",
            "Maria, Você quer par ou impar?1\n",
            "João, Você ficou com par \n",
            "-> Maria, escolha um número:5\n",
            "-> João, escolha um número :2\n",
            "//Maria venceu:\n"
          ]
        }
      ]
    }
  ]
}